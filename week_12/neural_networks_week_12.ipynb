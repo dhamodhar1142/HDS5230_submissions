{
  "nbformat": 4,
  "nbformat_minor": 0,
  "metadata": {
    "colab": {
      "provenance": [],
      "gpuType": "T4"
    },
    "kernelspec": {
      "name": "python3",
      "display_name": "Python 3"
    },
    "language_info": {
      "name": "python"
    },
    "accelerator": "GPU"
  },
  "cells": [
    {
      "cell_type": "code",
      "source": [
        "import pandas as pd\n",
        "import numpy as np\n",
        "import tensorflow as tf\n",
        "from sklearn.model_selection import train_test_split\n",
        "import time"
      ],
      "metadata": {
        "id": "SXC5TyRV4Kr2"
      },
      "execution_count": 1,
      "outputs": []
    },
    {
      "cell_type": "code",
      "source": [
        "def train_ann_model(csv_file, model_num):\n",
        "    # Load and preprocess the data\n",
        "    df = pd.read_csv(csv_file)\n",
        "    X = df.drop('outcome', axis=1)\n",
        "    y = df['outcome']\n",
        "    X_scaled = np.array(X, dtype=np.float32)\n",
        "    y = np.array(y, dtype=np.float32)\n",
        "\n",
        "    # Split the data into training and testing sets\n",
        "    X_train, X_test, y_train, y_test = train_test_split(X_scaled, y, test_size=0.2, random_state=42)\n",
        "\n",
        "    # Start timer\n",
        "    start_time = time.time()\n",
        "\n",
        "    # Build the model based on model_num\n",
        "    model = tf.keras.Sequential()\n",
        "    model.add(tf.keras.layers.Dense(4, activation='relu', input_shape=(X_train.shape[1],)))\n",
        "    if model_num == 2:\n",
        "        model.add(tf.keras.layers.Dense(4, activation='relu'))  # Add second hidden layer if model_num == 2\n",
        "    model.add(tf.keras.layers.Dense(1, activation='sigmoid'))  # Output layer\n",
        "\n",
        "    # Compile the model\n",
        "    model.compile(optimizer='adam', loss='binary_crossentropy', metrics=['accuracy'])\n",
        "\n",
        "    # Train the model\n",
        "    history = model.fit(\n",
        "        X_train, y_train,\n",
        "        epochs=50,\n",
        "        batch_size=32,\n",
        "        validation_split=0.2,\n",
        "        verbose=0\n",
        "    )\n",
        "\n",
        "    # Evaluate the model\n",
        "    test_loss, test_acc = model.evaluate(X_test, y_test, verbose=2)\n",
        "\n",
        "    total_time = time.time() - start_time\n",
        "    print(f\"Test accuracy: {test_acc:.4f} and Total time taken is {total_time:.4f} seconds\")\n"
      ],
      "metadata": {
        "id": "N7gEhvIAlJz7"
      },
      "execution_count": 4,
      "outputs": []
    },
    {
      "cell_type": "code",
      "source": [
        "train_ann_model(\"sample_1000.csv\", 1)"
      ],
      "metadata": {
        "colab": {
          "base_uri": "https://localhost:8080/"
        },
        "id": "KgDsDHAjZd94",
        "outputId": "eda4f46e-eba7-46ed-e9b2-fb1dfdee2a8e"
      },
      "execution_count": 5,
      "outputs": [
        {
          "output_type": "stream",
          "name": "stderr",
          "text": [
            "/usr/local/lib/python3.11/dist-packages/keras/src/layers/core/dense.py:87: UserWarning: Do not pass an `input_shape`/`input_dim` argument to a layer. When using Sequential models, prefer using an `Input(shape)` object as the first layer in the model instead.\n",
            "  super().__init__(activity_regularizer=activity_regularizer, **kwargs)\n"
          ]
        },
        {
          "output_type": "stream",
          "name": "stdout",
          "text": [
            "7/7 - 0s - 54ms/step - accuracy: 0.7250 - loss: 0.6429\n",
            "Test accuracy: 0.7250 and Total time taken is 13.4269 seconds\n"
          ]
        }
      ]
    },
    {
      "cell_type": "code",
      "source": [
        "train_ann_model(\"sample_10000.csv\", 1)"
      ],
      "metadata": {
        "colab": {
          "base_uri": "https://localhost:8080/"
        },
        "id": "iWtsPvc6Zqkw",
        "outputId": "45c7213b-6903-43ef-bcb6-0c3bdf40bbc0"
      },
      "execution_count": 6,
      "outputs": [
        {
          "output_type": "stream",
          "name": "stderr",
          "text": [
            "/usr/local/lib/python3.11/dist-packages/keras/src/layers/core/dense.py:87: UserWarning: Do not pass an `input_shape`/`input_dim` argument to a layer. When using Sequential models, prefer using an `Input(shape)` object as the first layer in the model instead.\n",
            "  super().__init__(activity_regularizer=activity_regularizer, **kwargs)\n"
          ]
        },
        {
          "output_type": "stream",
          "name": "stdout",
          "text": [
            "63/63 - 1s - 12ms/step - accuracy: 0.7685 - loss: 0.5413\n",
            "Test accuracy: 0.7685 and Total time taken is 34.1451 seconds\n"
          ]
        }
      ]
    },
    {
      "cell_type": "code",
      "source": [
        "train_ann_model(\"sample_100000.csv\", 1)"
      ],
      "metadata": {
        "colab": {
          "base_uri": "https://localhost:8080/"
        },
        "id": "8IJe1nA-jbCz",
        "outputId": "ab0f074d-5fd9-437a-b719-0d39a3304656"
      },
      "execution_count": 7,
      "outputs": [
        {
          "output_type": "stream",
          "name": "stderr",
          "text": [
            "/usr/local/lib/python3.11/dist-packages/keras/src/layers/core/dense.py:87: UserWarning: Do not pass an `input_shape`/`input_dim` argument to a layer. When using Sequential models, prefer using an `Input(shape)` object as the first layer in the model instead.\n",
            "  super().__init__(activity_regularizer=activity_regularizer, **kwargs)\n"
          ]
        },
        {
          "output_type": "stream",
          "name": "stdout",
          "text": [
            "625/625 - 1s - 2ms/step - accuracy: 0.9863 - loss: 0.0597\n",
            "Test accuracy: 0.9863 and Total time taken is 351.0462 seconds\n"
          ]
        }
      ]
    },
    {
      "cell_type": "code",
      "source": [
        "train_ann_model(\"sample_1000.csv\", 2)"
      ],
      "metadata": {
        "id": "wxiSBUNKjdUb",
        "colab": {
          "base_uri": "https://localhost:8080/"
        },
        "outputId": "5aa016cd-1f10-4c2a-8a56-d88784f0c187"
      },
      "execution_count": 8,
      "outputs": [
        {
          "output_type": "stream",
          "name": "stderr",
          "text": [
            "/usr/local/lib/python3.11/dist-packages/keras/src/layers/core/dense.py:87: UserWarning: Do not pass an `input_shape`/`input_dim` argument to a layer. When using Sequential models, prefer using an `Input(shape)` object as the first layer in the model instead.\n",
            "  super().__init__(activity_regularizer=activity_regularizer, **kwargs)\n"
          ]
        },
        {
          "output_type": "stream",
          "name": "stdout",
          "text": [
            "7/7 - 0s - 59ms/step - accuracy: 0.7350 - loss: 0.5931\n",
            "Test accuracy: 0.7350 and Total time taken is 10.3751 seconds\n"
          ]
        }
      ]
    },
    {
      "cell_type": "code",
      "source": [
        "train_ann_model(\"sample_10000.csv\", 2)"
      ],
      "metadata": {
        "id": "1yEq0yTJje6h",
        "colab": {
          "base_uri": "https://localhost:8080/"
        },
        "outputId": "c65f64be-6274-4762-da62-f4c206689026"
      },
      "execution_count": 9,
      "outputs": [
        {
          "output_type": "stream",
          "name": "stderr",
          "text": [
            "/usr/local/lib/python3.11/dist-packages/keras/src/layers/core/dense.py:87: UserWarning: Do not pass an `input_shape`/`input_dim` argument to a layer. When using Sequential models, prefer using an `Input(shape)` object as the first layer in the model instead.\n",
            "  super().__init__(activity_regularizer=activity_regularizer, **kwargs)\n"
          ]
        },
        {
          "output_type": "stream",
          "name": "stdout",
          "text": [
            "63/63 - 1s - 12ms/step - accuracy: 0.7685 - loss: 0.5413\n",
            "Test accuracy: 0.7685 and Total time taken is 34.4117 seconds\n"
          ]
        }
      ]
    },
    {
      "cell_type": "code",
      "source": [
        "train_ann_model(\"sample_100000.csv\", 2)"
      ],
      "metadata": {
        "id": "xgT0_5frjgOI",
        "colab": {
          "base_uri": "https://localhost:8080/"
        },
        "outputId": "a0cbfd30-e948-4a6b-b5ec-048c1134f1f4"
      },
      "execution_count": 10,
      "outputs": [
        {
          "output_type": "stream",
          "name": "stderr",
          "text": [
            "/usr/local/lib/python3.11/dist-packages/keras/src/layers/core/dense.py:87: UserWarning: Do not pass an `input_shape`/`input_dim` argument to a layer. When using Sequential models, prefer using an `Input(shape)` object as the first layer in the model instead.\n",
            "  super().__init__(activity_regularizer=activity_regularizer, **kwargs)\n"
          ]
        },
        {
          "output_type": "stream",
          "name": "stdout",
          "text": [
            "625/625 - 1s - 2ms/step - accuracy: 0.9751 - loss: 0.0460\n",
            "Test accuracy: 0.9751 and Total time taken is 376.0773 seconds\n"
          ]
        }
      ]
    },
    {
      "cell_type": "code",
      "source": [],
      "metadata": {
        "id": "gTPbHhXAlch-"
      },
      "execution_count": null,
      "outputs": []
    }
  ]
}