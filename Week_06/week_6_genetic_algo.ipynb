{
  "cells": [
    {
      "cell_type": "markdown",
      "metadata": {
        "id": "4MKV0kQpIFdm"
      },
      "source": [
        "## Week 6 Assignment Solution"
      ]
    },
    {
      "cell_type": "markdown",
      "metadata": {
        "id": "V1_sl8FZILb3"
      },
      "source": [
        "In this assignment, I am tasked with using a genetic algorithm to select 8 Federally Qualified Health Centers (FQHCs) from a given dataset to introduce specialized mental health services. After considering two possible approaches for determining the fitness of a location, I have chosen to focus on the population density within a 30-mile radius of each FQHC.\n",
        "\n",
        "Two approaches were considered for determining the fitness of the FQHC locations. The first approach, Average Closeness to All Residents, aimed to select FQHCs based on their proximity to all residents, assuming that reducing the average distance between residents and FQHCs would improve accessibility. While this method could optimize geographic distribution, it doesn’t necessarily maximize the number of people served, which is a crucial factor when expanding access to specialized services like mental health care. The second approach, Population Density within 30 Miles, selects FQHCs located in areas with the highest number of residents within a 30-mile radius. I chose this approach because it directly aligns with the objective of maximizing the number of individuals who can access mental health services. The assumption is that by focusing on FQHCs with high population density, we can ensure that a larger number of people will benefit from the new services.\n",
        "\n",
        "The rationale for choosing population density lies in the goal of maximizing the reach and impact of specialized mental health services. Serving a larger population increases the efficiency and effectiveness of healthcare delivery. I believe that selecting locations with higher population density will ensure we are meeting the needs of the most people. The fitness calculation, based on the number of residents within a 30-mile radius, assumes that more residents in proximity to an FQHC increase the potential for the FQHC to provide a meaningful impact.\n",
        "\n",
        "The fitness function is designed to evaluate the \"fitness\" of each selection of 8 FQHC locations. The metric used is the number of residents within a 30-mile radius of each selected FQHC. For each selection of FQHCs, I compute the total population within this radius, which forms the basis for evaluating the suitability of each set of locations."
      ]
    },
    {
      "cell_type": "code",
      "execution_count": 1,
      "metadata": {},
      "outputs": [],
      "source": [
        "import numpy as np\n",
        "import pandas as pd\n",
        "import geopandas as gpd\n",
        "from deap import base, creator, tools, algorithms\n",
        "from scipy.spatial.distance import cdist"
      ]
    },
    {
      "cell_type": "code",
      "execution_count": 2,
      "metadata": {},
      "outputs": [],
      "source": [
        "CLINICAL_PATH = \"MO_2018_Federally_Qualified_Health_Center_Locations.shp\"\n",
        "clinic_data = gpd.read_file(CLINICAL_PATH)  # Clinic locations\n",
        "resident_data = pd.read_csv(\"Mo_pop_Sim.csv\")  # Resident locations"
      ]
    },
    {
      "cell_type": "code",
      "execution_count": 3,
      "metadata": {},
      "outputs": [],
      "source": [
        "# Extract latitude & longitude\n",
        "clinic_coords = clinic_data[['Latitude', 'Longitude']].values\n",
        "resident_coords = resident_data[['lat', 'long']].values"
      ]
    },
    {
      "cell_type": "code",
      "execution_count": 4,
      "metadata": {},
      "outputs": [],
      "source": [
        "def compute_distance(lat1, lon1, lat2_arr, lon2_arr):\n",
        "    \"\"\"Vectorized function to compute Haversine distance in miles for multiple points at once.\"\"\"\n",
        "    radius_earth = 3959  # Earth radius in miles\n",
        "\n",
        "    lat1, lon1 = np.radians(lat1), np.radians(lon1)\n",
        "    lat2_arr, lon2_arr = np.radians(lat2_arr), np.radians(lon2_arr)\n",
        "\n",
        "    delta_lat = lat2_arr - lat1\n",
        "    delta_lon = lon2_arr - lon1\n",
        "\n",
        "    a = np.sin(delta_lat / 2) ** 2 + np.cos(lat1) * np.cos(lat2_arr) * np.sin(delta_lon / 2) ** 2\n",
        "    return 2 * radius_earth * np.arcsin(np.sqrt(a))"
      ]
    },
    {
      "cell_type": "code",
      "execution_count": 5,
      "metadata": {},
      "outputs": [],
      "source": [
        "# Precompute distances between all clinics and residents\n",
        "distance_matrix = np.zeros((len(clinic_coords), len(resident_coords)))\n",
        "for idx, clinic in enumerate(clinic_coords):\n",
        "    distance_matrix[idx] = compute_distance(clinic[0], clinic[1], resident_coords[:, 0], resident_coords[:, 1])"
      ]
    },
    {
      "cell_type": "code",
      "execution_count": 6,
      "metadata": {},
      "outputs": [],
      "source": [
        "# Compute number of residents within 30 miles of a clinic\n",
        "def residents_within_range(clinic_idx):\n",
        "    \"\"\"Compute number of residents within 30 miles of the given clinic index.\"\"\"\n",
        "    distances = distance_matrix[clinic_idx]  # Use precomputed distances\n",
        "    return np.sum(distances <= 30)  # Count residents within 30 miles"
      ]
    },
    {
      "cell_type": "code",
      "execution_count": 7,
      "metadata": {},
      "outputs": [],
      "source": [
        "# Fitness function (maximize resident coverage)\n",
        "def fitness_function(candidate):\n",
        "    \"\"\"Evaluate fitness by summing residents covered by selected clinics.\"\"\"\n",
        "    return (sum(residents_within_range(clinic_idx) for clinic_idx in candidate),)"
      ]
    },
    {
      "cell_type": "code",
      "execution_count": 8,
      "metadata": {},
      "outputs": [],
      "source": [
        "# Genetic Algorithm setup\n",
        "creator.create(\"MaxFitness\", base.Fitness, weights=(1.0,))  # Maximize fitness\n",
        "creator.create(\"Candidate\", list, fitness=creator.MaxFitness)"
      ]
    },
    {
      "cell_type": "code",
      "execution_count": 9,
      "metadata": {},
      "outputs": [],
      "source": [
        "# Create unique candidate (no duplicates in clinic selections)\n",
        "def generate_candidate():\n",
        "    \"\"\"Generate a unique candidate solution with non-repeating clinic selections.\"\"\"\n",
        "    return list(np.random.choice(len(clinic_coords), 8, replace=False))"
      ]
    },
    {
      "cell_type": "code",
      "execution_count": 10,
      "metadata": {},
      "outputs": [],
      "source": [
        "toolbox = base.Toolbox()\n",
        "toolbox.register(\"candidate\", tools.initIterate, creator.Candidate, generate_candidate)\n",
        "toolbox.register(\"population\", tools.initRepeat, list, toolbox.candidate)\n",
        "\n",
        "toolbox.register(\"evaluate\", fitness_function)\n",
        "toolbox.register(\"mate\", tools.cxTwoPoint)\n",
        "toolbox.register(\"mutate\", tools.mutShuffleIndexes, indpb=0.2)\n",
        "toolbox.register(\"select\", tools.selTournament, tournsize=3)"
      ]
    },
    {
      "cell_type": "code",
      "execution_count": 11,
      "metadata": {},
      "outputs": [],
      "source": [
        "# Run Genetic Algorithm\n",
        "pop = toolbox.population(n=20)\n",
        "algorithms.eaSimple(pop, toolbox, cxpb=0.5, mutpb=0.2, ngen=5, verbose=True)"
      ]
    },
    {
      "cell_type": "code",
      "execution_count": 12,
      "metadata": {
        "colab": {
          "base_uri": "https://localhost:8080/"
        },
        "id": "Uu582Rq6uuJf",
        "outputId": "c8bbc2bb-c50e-4f2b-a9b2-7303b6b11c18"
      },
      "outputs": [
        {
          "name": "stdout",
          "output_type": "stream",
          "text": [
            "Requirement already satisfied: deap in /usr/local/lib/python3.11/dist-packages (1.4.2)\n",
            "Requirement already satisfied: numpy in /usr/local/lib/python3.11/dist-packages (from deap) (1.26.4)\n"
          ]
        },
        {
          "name": "stderr",
          "output_type": "stream",
          "text": [
            "/usr/local/lib/python3.11/dist-packages/deap/creator.py:185: RuntimeWarning: A class named 'FitnessMax' has already been created and it will be overwritten. Consider deleting previous creation of that class or rename it.\n",
            "  warnings.warn(\"A class named '{0}' has already been created and it \"\n",
            "/usr/local/lib/python3.11/dist-packages/deap/creator.py:185: RuntimeWarning: A class named 'Individual' has already been created and it will be overwritten. Consider deleting previous creation of that class or rename it.\n",
            "  warnings.warn(\"A class named '{0}' has already been created and it \"\n"
          ]
        },
        {
          "name": "stdout",
          "output_type": "stream",
          "text": [
            "gen\tnevals\n",
            "0  \t20    \n",
            "1  \t11    \n",
            "2  \t10    \n",
            "3  \t15    \n",
            "4  \t10    \n",
            "5  \t10    \n",
            "Selected FQHC Locations for Mental Health Services:\n",
            "[[ 39.083164 -94.507583]\n",
            " [ 38.66863  -90.272661]\n",
            " [ 38.435946 -90.554678]\n",
            " [ 38.668384 -90.209452]\n",
            " [ 38.677759 -90.230247]\n",
            " [ 37.241458 -90.968494]\n",
            " [ 39.257031 -94.451666]\n",
            " [ 39.035322 -94.539588]]\n"
          ]
        }
      ],
      "source": [
        "# Get best solution\n",
        "optimal_solution = tools.selBest(pop, k=1)[0]\n",
        "best_clinics = clinic_coords[np.array(optimal_solution)]\n",
        "\n",
        "# Print Selected Clinic Locations\n",
        "print(\"Selected Clinic Locations for Mental Health Services:\")\n",
        "print(best_clinics)"
      ]
    },
    {
      "cell_type": "markdown",
      "metadata": {
        "id": "cUCvNwgXJXEA"
      },
      "source": [
        "> The code implements a genetic algorithm to find the optimal set of 8 FQHCs based on maximizing population coverage. Two datasets are loaded: one containing FQHC locations and another with simulated population data. A vectorized Haversine formula calculates the great-circle distance between FQHCs and residents, and a function determines the number of residents within a 30-mile radius of each FQHC using a precomputed distance matrix.\n",
        "\n",
        "> The genetic algorithm is set up using the DEAP library, where individuals represent different selections of 8 FQHCs. Fitness is determined by the total number of residents served, and uniqueness is ensured by preventing duplicate selections. The algorithm runs for 5 generations with defined crossover and mutation rates, using tournament selection to evolve the best solutions. The optimal FQHC locations are identified and output as the final result.\n"
      ]
    },
    {
      "cell_type": "markdown",
      "metadata": {
        "id": "JOhI42YFIuSI"
      },
      "source": [
        "Result:\n",
        "The genetic algorithm produced the following selected FQHC locations for the provision of specialized mental health services:\n",
        "\n",
        "[[ 39.083164 -94.507583]\n",
        "\n",
        " [ 38.66863  -90.272661]\n",
        "\n",
        " [ 38.435946 -90.554678]\n",
        "\n",
        " [ 38.668384 -90.209452]\n",
        "\n",
        " [ 38.677759 -90.230247]\n",
        "\n",
        " [ 37.241458 -90.968494]\n",
        "\n",
        " [ 39.257031 -94.451666]\n",
        "\n",
        " [ 39.035322 -94.539588]]"
      ]
    },
    {
      "cell_type": "markdown",
      "metadata": {},
      "source": [
        "The 8 FQHCs selected based on the fitness function aim to maximize the number of residents within a 30-mile radius of these locations, making them the optimal sites for introducing new mental health services in Missouri. The approach, focused on population density within this radius, was chosen to ensure that the maximum number of individuals can access these specialized services. The fitness function was designed to optimize the total population served by the selected FQHCs, and the genetic algorithm was used to determine the best 8 locations. The final result offers a set of ideal sites for providing mental health services to the largest possible population."
      ]
    }
  ],
  "metadata": {
    "colab": {
      "provenance": []
    },
    "kernelspec": {
      "display_name": "Python 3",
      "name": "python3"
    },
    "language_info": {
      "name": "python"
    }
  },
  "nbformat": 4,
  "nbformat_minor": 0
}
