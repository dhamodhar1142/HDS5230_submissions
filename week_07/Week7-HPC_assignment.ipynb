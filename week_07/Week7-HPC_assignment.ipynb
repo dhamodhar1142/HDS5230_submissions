{
 "cells": [
  {
   "cell_type": "code",
   "execution_count": 0,
   "metadata": {
    "application/vnd.databricks.v1+cell": {
     "cellMetadata": {
      "byteLimit": 2048000,
      "rowLimit": 10000
     },
     "inputWidgets": {},
     "nuid": "7ebed6e6-8389-4938-920c-307069112001",
     "showTitle": false,
     "tableResultSettingsMap": {},
     "title": ""
    }
   },
   "outputs": [],
   "source": [
    "import requests\n",
    "import io\n",
    "import zipfile\n",
    "import os\n",
    "\n",
    "import pyspark.sql.functions as F\n",
    "import pyspark.sql.types as T"
   ]
  },
  {
   "cell_type": "code",
   "execution_count": 0,
   "metadata": {
    "application/vnd.databricks.v1+cell": {
     "cellMetadata": {
      "byteLimit": 2048000,
      "rowLimit": 10000
     },
     "inputWidgets": {},
     "nuid": "3b88c8c7-8905-451c-a4e5-7bed65c1fcb1",
     "showTitle": false,
     "tableResultSettingsMap": {},
     "title": ""
    }
   },
   "outputs": [
    {
     "output_type": "stream",
     "name": "stdout",
     "output_type": "stream",
     "text": [
      "File downloaded successfully as PGYR2023_P01302025_01212025.zip\nFile downloaded successfully as PGYR2023_P01302025_01212025.zip\nOut[2]: 0"
     ]
    }
   ],
   "source": [
    "url = \"https://download.cms.gov/openpayments/PGYR2023_P01302025_01212025.zip\"\n",
    "url2 = \"https://download.cms.gov/openpayments/PHPRFL_P01302025_01212025.zip\"\n",
    "local_filename = url.split(\"/\")[-1] # Extracts the file name from the URL\n",
    "buffer = io.BytesIO()\n",
    "buffer2 = io.BytesIO()\n",
    "buffer.seek(0)\n",
    "buffer2.seek(0)\n",
    "\n",
    "response = requests.get(url, stream=True)\n",
    "response2 = requests.get(url2, stream=True)\n",
    "\n",
    "if response.status_code == 200:\n",
    "    for chunk in response.iter_content(chunk_size=1024):\n",
    "        if chunk:\n",
    "            buffer.write(chunk)\n",
    "    print(f\"File downloaded successfully as {local_filename}\")\n",
    "else:\n",
    "    print(f\"Failed to download file. Status code: {response.status_code}\")\n",
    "\n",
    "if response2.status_code == 200:\n",
    "    for chunk in response2.iter_content(chunk_size=1024):\n",
    "        if chunk:\n",
    "            buffer2.write(chunk)\n",
    "    print(f\"File downloaded successfully as {local_filename}\")\n",
    "else:\n",
    "    print(f\"Failed to download file. Status code: {response.status_code}\")\n",
    "\n",
    "buffer2.seek(0)"
   ]
  },
  {
   "cell_type": "code",
   "execution_count": 0,
   "metadata": {
    "application/vnd.databricks.v1+cell": {
     "cellMetadata": {
      "byteLimit": 2048000,
      "rowLimit": 10000
     },
     "inputWidgets": {},
     "nuid": "84b2f0b4-3a4a-470e-9a68-8d9deb38b994",
     "showTitle": false,
     "tableResultSettingsMap": {},
     "title": ""
    }
   },
   "outputs": [],
   "source": [
    "temp_dir = os.getcwd()\n",
    "\n",
    "just_ingested = False\n",
    "try:\n",
    "    with zipfile.ZipFile(buffer, 'r') as zip_ref:\n",
    "        # Loop through each file in the ZIP archive\n",
    "        for file_name in zip_ref.namelist():\n",
    "            table_name,ext = os.path.splitext(file_name)\n",
    "            if ext.lower() == \".csv\":\n",
    "                temp_path = os.path.join(temp_dir, file_name)\n",
    "                zip_ref.extract(file_name, temp_dir)\n",
    "                df = spark.read.csv(f\"file:{temp_path}\", header=True, inferSchema=True)\n",
    "                df.write.format(\"parquet\").saveAsTable(table_name)\n",
    "\n",
    "    with zipfile.ZipFile(buffer2, 'r') as zip_ref:\n",
    "        # Loop through each file in the ZIP archive\n",
    "        for file_name in zip_ref.namelist():\n",
    "            table_name,ext = os.path.splitext(file_name)\n",
    "            if ext.lower() == \".csv\":\n",
    "                temp_path = os.path.join(temp_dir, file_name)\n",
    "                zip_ref.extract(file_name, temp_dir)\n",
    "                df = spark.read.csv(f\"file:{temp_path}\", header=True, inferSchema=True)\n",
    "                df.write.format(\"parquet\").saveAsTable(table_name)\n",
    "    just_ingested = True\n",
    "except Exception as err:\n",
    "    just_ingested = False"
   ]
  },
  {
   "cell_type": "code",
   "execution_count": 0,
   "metadata": {
    "application/vnd.databricks.v1+cell": {
     "cellMetadata": {
      "byteLimit": 2048000,
      "rowLimit": 10000
     },
     "inputWidgets": {},
     "nuid": "629541df-b39e-4254-a056-066d40379c05",
     "showTitle": false,
     "tableResultSettingsMap": {},
     "title": ""
    }
   },
   "outputs": [],
   "source": [
    "if just_ingested:\n",
    "    payment_data = spark.read.table(f\"default.op_dtl_gnrl_pgyr2023_p01302025_01212025\")\n",
    "    recipient_profile_data = spark.read.table(f\"default.OP_CVRD_RCPNT_PRFL_SPLMTL_P01302025_01212025\")\n",
    "else:\n",
    "    PATH = \"dbfs:/user/hive/warehouse/op_dtl_gnrl_pgyr2023_p01302025_01212025\"\n",
    "    PATH2 = \"dbfs:/user/hive/warehouse/op_cvrd_rcpnt_prfl_splmtl_p01302025_01212025\"\n",
    "    payment_data = spark.read.format('parquet').load(PATH)\n",
    "    recipient_profile_data = spark.read.format('parquet').load(PATH2)"
   ]
  },
  {
   "cell_type": "code",
   "execution_count": 0,
   "metadata": {
    "application/vnd.databricks.v1+cell": {
     "cellMetadata": {
      "byteLimit": 2048000,
      "rowLimit": 10000
     },
     "inputWidgets": {},
     "nuid": "3e9ec373-9f14-4e18-bcd2-8d246604272e",
     "showTitle": false,
     "tableResultSettingsMap": {},
     "title": ""
    }
   },
   "outputs": [
    {
     "output_type": "stream",
     "name": "stdout",
     "output_type": "stream",
     "text": [
      "Out[22]: [StructField('Change_Type', StringType(), True),\n StructField('Covered_Recipient_Type', StringType(), True),\n StructField('Teaching_Hospital_CCN', StringType(), True),\n StructField('Teaching_Hospital_ID', StringType(), True),\n StructField('Teaching_Hospital_Name', StringType(), True),\n StructField('Covered_Recipient_Profile_ID', StringType(), True),\n StructField('Covered_Recipient_NPI', StringType(), True),\n StructField('Covered_Recipient_First_Name', StringType(), True),\n StructField('Covered_Recipient_Middle_Name', StringType(), True),\n StructField('Covered_Recipient_Last_Name', StringType(), True),\n StructField('Covered_Recipient_Name_Suffix', StringType(), True),\n StructField('Recipient_Primary_Business_Street_Address_Line1', StringType(), True),\n StructField('Recipient_Primary_Business_Street_Address_Line2', StringType(), True),\n StructField('Recipient_City', StringType(), True),\n StructField('Recipient_State', StringType(), True),\n StructField('Recipient_Zip_Code', StringType(), True),\n StructField('Recipient_Country', StringType(), True),\n StructField('Recipient_Province', StringType(), True),\n StructField('Recipient_Postal_Code', StringType(), True),\n StructField('Covered_Recipient_Primary_Type_1', StringType(), True),\n StructField('Covered_Recipient_Primary_Type_2', StringType(), True),\n StructField('Covered_Recipient_Primary_Type_3', StringType(), True),\n StructField('Covered_Recipient_Primary_Type_4', StringType(), True),\n StructField('Covered_Recipient_Primary_Type_5', StringType(), True),\n StructField('Covered_Recipient_Primary_Type_6', StringType(), True),\n StructField('Covered_Recipient_Specialty_1', StringType(), True),\n StructField('Covered_Recipient_Specialty_2', StringType(), True),\n StructField('Covered_Recipient_Specialty_3', StringType(), True),\n StructField('Covered_Recipient_Specialty_4', StringType(), True),\n StructField('Covered_Recipient_Specialty_5', StringType(), True),\n StructField('Covered_Recipient_Specialty_6', StringType(), True),\n StructField('Covered_Recipient_License_State_code1', StringType(), True),\n StructField('Covered_Recipient_License_State_code2', StringType(), True),\n StructField('Covered_Recipient_License_State_code3', StringType(), True),\n StructField('Covered_Recipient_License_State_code4', StringType(), True),\n StructField('Covered_Recipient_License_State_code5', StringType(), True),\n StructField('Submitting_Applicable_Manufacturer_or_Applicable_GPO_Name', StringType(), True),\n StructField('Applicable_Manufacturer_or_Applicable_GPO_Making_Payment_ID', StringType(), True),\n StructField('Applicable_Manufacturer_or_Applicable_GPO_Making_Payment_Name', StringType(), True),\n StructField('Applicable_Manufacturer_or_Applicable_GPO_Making_Payment_State', StringType(), True),\n StructField('Applicable_Manufacturer_or_Applicable_GPO_Making_Payment_Country', StringType(), True),\n StructField('Total_Amount_of_Payment_USDollars', StringType(), True),\n StructField('Date_of_Payment', StringType(), True),\n StructField('Number_of_Payments_Included_in_Total_Amount', StringType(), True),\n StructField('Form_of_Payment_or_Transfer_of_Value', StringType(), True),\n StructField('Nature_of_Payment_or_Transfer_of_Value', StringType(), True),\n StructField('City_of_Travel', StringType(), True),\n StructField('State_of_Travel', StringType(), True),\n StructField('Country_of_Travel', StringType(), True),\n StructField('Physician_Ownership_Indicator', StringType(), True),\n StructField('Third_Party_Payment_Recipient_Indicator', StringType(), True),\n StructField('Name_of_Third_Party_Entity_Receiving_Payment_or_Transfer_of_Value', StringType(), True),\n StructField('Charity_Indicator', StringType(), True),\n StructField('Third_Party_Equals_Covered_Recipient_Indicator', StringType(), True),\n StructField('Contextual_Information', StringType(), True),\n StructField('Delay_in_Publication_Indicator', StringType(), True),\n StructField('Record_ID', StringType(), True),\n StructField('Dispute_Status_for_Publication', StringType(), True),\n StructField('Related_Product_Indicator', StringType(), True),\n StructField('Covered_or_Noncovered_Indicator_1', StringType(), True),\n StructField('Indicate_Drug_or_Biological_or_Device_or_Medical_Supply_1', StringType(), True),\n StructField('Product_Category_or_Therapeutic_Area_1', StringType(), True),\n StructField('Name_of_Drug_or_Biological_or_Device_or_Medical_Supply_1', StringType(), True),\n StructField('Associated_Drug_or_Biological_NDC_1', StringType(), True),\n StructField('Associated_Device_or_Medical_Supply_PDI_1', StringType(), True),\n StructField('Covered_or_Noncovered_Indicator_2', StringType(), True),\n StructField('Indicate_Drug_or_Biological_or_Device_or_Medical_Supply_2', StringType(), True),\n StructField('Product_Category_or_Therapeutic_Area_2', StringType(), True),\n StructField('Name_of_Drug_or_Biological_or_Device_or_Medical_Supply_2', StringType(), True),\n StructField('Associated_Drug_or_Biological_NDC_2', StringType(), True),\n StructField('Associated_Device_or_Medical_Supply_PDI_2', StringType(), True),\n StructField('Covered_or_Noncovered_Indicator_3', StringType(), True),\n StructField('Indicate_Drug_or_Biological_or_Device_or_Medical_Supply_3', StringType(), True),\n StructField('Product_Category_or_Therapeutic_Area_3', StringType(), True),\n StructField('Name_of_Drug_or_Biological_or_Device_or_Medical_Supply_3', StringType(), True),\n StructField('Associated_Drug_or_Biological_NDC_3', StringType(), True),\n StructField('Associated_Device_or_Medical_Supply_PDI_3', StringType(), True),\n StructField('Covered_or_Noncovered_Indicator_4', StringType(), True),\n StructField('Indicate_Drug_or_Biological_or_Device_or_Medical_Supply_4', StringType(), True),\n StructField('Product_Category_or_Therapeutic_Area_4', StringType(), True),\n StructField('Name_of_Drug_or_Biological_or_Device_or_Medical_Supply_4', StringType(), True),\n StructField('Associated_Drug_or_Biological_NDC_4', StringType(), True),\n StructField('Associated_Device_or_Medical_Supply_PDI_4', StringType(), True),\n StructField('Covered_or_Noncovered_Indicator_5', StringType(), True),\n StructField('Indicate_Drug_or_Biological_or_Device_or_Medical_Supply_5', StringType(), True),\n StructField('Product_Category_or_Therapeutic_Area_5', StringType(), True),\n StructField('Name_of_Drug_or_Biological_or_Device_or_Medical_Supply_5', StringType(), True),\n StructField('Associated_Drug_or_Biological_NDC_5', StringType(), True),\n StructField('Associated_Device_or_Medical_Supply_PDI_5', StringType(), True),\n StructField('Program_Year', IntegerType(), True),\n StructField('Payment_Publication_Date', StringType(), True)]"
     ]
    }
   ],
   "source": [
    "payment_data.schema.fields"
   ]
  },
  {
   "cell_type": "code",
   "execution_count": 0,
   "metadata": {
    "application/vnd.databricks.v1+cell": {
     "cellMetadata": {
      "byteLimit": 2048000,
      "rowLimit": 10000
     },
     "inputWidgets": {},
     "nuid": "abf20695-d5d9-4eb3-adc2-ddf0541d864a",
     "showTitle": false,
     "tableResultSettingsMap": {},
     "title": ""
    }
   },
   "outputs": [],
   "source": [
    "# Convert payment amount column to float\n",
    "payment_data = payment_data.withColumn(\n",
    "    \"Total_Amount_of_Payment_USDollars\", \n",
    "    F.col(\"Total_Amount_of_Payment_USDollars\").cast(T.FloatType())\n",
    ")"
   ]
  },
  {
   "cell_type": "code",
   "execution_count": 0,
   "metadata": {
    "application/vnd.databricks.v1+cell": {
     "cellMetadata": {
      "byteLimit": 2048000,
      "rowLimit": 10000
     },
     "inputWidgets": {},
     "nuid": "e4a163e4-7390-46b3-92ac-4d252542f83a",
     "showTitle": false,
     "tableResultSettingsMap": {},
     "title": ""
    }
   },
   "outputs": [],
   "source": [
    "# Filter transactions above a certain threshold\n",
    "high_value_payments = payment_data.filter(F.col(\"Total_Amount_of_Payment_USDollars\") > 1000)"
   ]
  },
  {
   "cell_type": "code",
   "execution_count": 0,
   "metadata": {
    "application/vnd.databricks.v1+cell": {
     "cellMetadata": {
      "byteLimit": 2048000,
      "rowLimit": 10000
     },
     "inputWidgets": {},
     "nuid": "bfcbce4f-174e-41ad-98e0-c1394a192393",
     "showTitle": false,
     "tableResultSettingsMap": {},
     "title": ""
    }
   },
   "outputs": [],
   "source": [
    "# Aggregate payment data by nature of payment\n",
    "payment_summary_by_nature = high_value_payments.groupBy(\"Nature_of_Payment_or_Transfer_of_Value\").agg(\n",
    "    F.count(\"Total_Amount_of_Payment_USDollars\").alias(\"transaction_count\"),\n",
    "    F.sum(\"Total_Amount_of_Payment_USDollars\").alias(\"total_payment_sum\")\n",
    ")"
   ]
  },
  {
   "cell_type": "code",
   "execution_count": 0,
   "metadata": {
    "application/vnd.databricks.v1+cell": {
     "cellMetadata": {
      "byteLimit": 2048000,
      "rowLimit": 10000
     },
     "inputWidgets": {},
     "nuid": "a2096f11-15d9-404b-a1f5-a6f85eb36236",
     "showTitle": false,
     "tableResultSettingsMap": {},
     "title": ""
    }
   },
   "outputs": [
    {
     "output_type": "stream",
     "name": "stdout",
     "output_type": "stream",
     "text": [
      "+--------------------------------------------------------------------------------------------------------------------------------------------------+-----------------+--------------------+\n|Nature_of_Payment_or_Transfer_of_Value                                                                                                            |transaction_count|total_payment_sum   |\n+--------------------------------------------------------------------------------------------------------------------------------------------------+-----------------+--------------------+\n|Compensation for services other than consulting, including serving as faculty or as a speaker at a venue other than a continuing education program|164093           |5.582959709562378E8 |\n|Consulting Fee                                                                                                                                    |105239           |4.819268881451416E8 |\n|Travel and Lodging                                                                                                                                |24793            |5.476596304553223E7 |\n|Honoraria                                                                                                                                         |13750            |5.311015340332031E7 |\n|Education                                                                                                                                         |13376            |5.179660454785156E7 |\n|Royalty or License                                                                                                                                |11538            |1.190650138420227E9 |\n|Compensation for serving as faculty or as a speaker for a medical education program                                                               |8658             |2.762957946057129E7 |\n|Grant                                                                                                                                             |4922             |1.1127899889367676E8|\n|Space rental or facility fees (teaching hospital only)                                                                                            |4917             |2.768891679724121E7 |\n|Long term medical supply or device loan                                                                                                           |2930             |2.9007746673583984E7|\n|Debt forgiveness                                                                                                                                  |1788             |1.3169610816955566E7|\n|Food and Beverage                                                                                                                                 |968              |2285237.6763916016  |\n|Gift                                                                                                                                              |630              |3701991.0388183594  |\n|Acquisitions                                                                                                                                      |563              |7.191250424938965E7 |\n|Charitable Contribution                                                                                                                           |239              |7394503.872680664   |\n|Entertainment                                                                                                                                     |30               |61021.20031738281   |\n+--------------------------------------------------------------------------------------------------------------------------------------------------+-----------------+--------------------+\n\n"
     ]
    }
   ],
   "source": [
    "# Display top transactions by count and amount\n",
    "payment_summary_by_nature.orderBy(\"transaction_count\", ascending=False).show(truncate=False)"
   ]
  },
  {
   "cell_type": "code",
   "execution_count": 0,
   "metadata": {
    "application/vnd.databricks.v1+cell": {
     "cellMetadata": {
      "byteLimit": 2048000,
      "rowLimit": 10000
     },
     "inputWidgets": {},
     "nuid": "1285ebce-7026-43ae-aa59-e5dadbb320e3",
     "showTitle": false,
     "tableResultSettingsMap": {},
     "title": ""
    }
   },
   "outputs": [
    {
     "output_type": "stream",
     "name": "stdout",
     "output_type": "stream",
     "text": [
      "+--------------------------------------------------------------------------------------------------------------------------------------------------+-----------------+--------------------+\n|Nature_of_Payment_or_Transfer_of_Value                                                                                                            |transaction_count|total_payment_sum   |\n+--------------------------------------------------------------------------------------------------------------------------------------------------+-----------------+--------------------+\n|Royalty or License                                                                                                                                |11538            |1.190650138420227E9 |\n|Compensation for services other than consulting, including serving as faculty or as a speaker at a venue other than a continuing education program|164093           |5.582959709562378E8 |\n|Consulting Fee                                                                                                                                    |105239           |4.819268881451416E8 |\n|Grant                                                                                                                                             |4922             |1.1127899889367676E8|\n|Acquisitions                                                                                                                                      |563              |7.191250424938965E7 |\n|Travel and Lodging                                                                                                                                |24793            |5.476596304553223E7 |\n|Honoraria                                                                                                                                         |13750            |5.311015340332031E7 |\n|Education                                                                                                                                         |13376            |5.179660454785156E7 |\n|Long term medical supply or device loan                                                                                                           |2930             |2.9007746673583984E7|\n|Space rental or facility fees (teaching hospital only)                                                                                            |4917             |2.768891679724121E7 |\n+--------------------------------------------------------------------------------------------------------------------------------------------------+-----------------+--------------------+\n\n"
     ]
    }
   ],
   "source": [
    "payment_summary_by_nature.orderBy(\"total_payment_sum\", ascending=False).limit(10).show(truncate=False)"
   ]
  },
  {
   "cell_type": "code",
   "execution_count": 0,
   "metadata": {
    "application/vnd.databricks.v1+cell": {
     "cellMetadata": {
      "byteLimit": 2048000,
      "rowLimit": 10000
     },
     "inputWidgets": {},
     "nuid": "8c7cbcf1-7159-4b92-ba5e-eab4d1cff9c7",
     "showTitle": false,
     "tableResultSettingsMap": {},
     "title": ""
    }
   },
   "outputs": [],
   "source": [
    "# Aggregate payment data by recipient specialty\n",
    "payment_summary_by_specialty = payment_data.groupBy(\"Covered_Recipient_Specialty_1\").agg(\n",
    "    F.count(\"Total_Amount_of_Payment_USDollars\").alias(\"transaction_count\"),\n",
    "    F.sum(\"Total_Amount_of_Payment_USDollars\").alias(\"total_payment_sum\")\n",
    ")"
   ]
  },
  {
   "cell_type": "code",
   "execution_count": 0,
   "metadata": {
    "application/vnd.databricks.v1+cell": {
     "cellMetadata": {
      "byteLimit": 2048000,
      "rowLimit": 10000
     },
     "inputWidgets": {},
     "nuid": "3c73fc92-558c-438b-96fd-52b266f5d109",
     "showTitle": false,
     "tableResultSettingsMap": {},
     "title": ""
    }
   },
   "outputs": [
    {
     "output_type": "stream",
     "name": "stdout",
     "output_type": "stream",
     "text": [
      "+------------------------------------------------------------------------------------------------+-----------------+--------------------+\n|Covered_Recipient_Specialty_1                                                                   |transaction_count|total_payment_sum   |\n+------------------------------------------------------------------------------------------------+-----------------+--------------------+\n|null                                                                                            |30686            |7.936674627555835E8 |\n|Allopathic & Osteopathic Physicians|Orthopaedic Surgery                                         |210504           |4.0345021277223873E8|\n|Allopathic & Osteopathic Physicians|Internal Medicine                                           |1307850          |1.3136300312194332E8|\n|Allopathic & Osteopathic Physicians|Psychiatry & Neurology|Neurology                            |457774           |8.979213624269351E7 |\n|Allopathic & Osteopathic Physicians|Neurological Surgery                                        |78680            |8.608847850082898E7 |\n|Allopathic & Osteopathic Physicians|Dermatology                                                 |454866           |8.320264770937024E7 |\n|Allopathic & Osteopathic Physicians|Internal Medicine|Cardiovascular Disease                    |458369           |7.022084117953089E7 |\n|Allopathic & Osteopathic Physicians|Internal Medicine|Hematology & Oncology                     |307220           |6.946894111538701E7 |\n|Allopathic & Osteopathic Physicians|Orthopaedic Surgery|Adult Reconstructive Orthopaedic Surgery|17768            |6.6772837355176E7   |\n|Allopathic & Osteopathic Physicians|Psychiatry & Neurology|Psychiatry                           |307801           |6.329825408609511E7 |\n+------------------------------------------------------------------------------------------------+-----------------+--------------------+\n\n"
     ]
    }
   ],
   "source": [
    "# Display top specialties by total payment sum\n",
    "payment_summary_by_specialty.orderBy(\"total_payment_sum\", ascending=False).limit(10).show(truncate=False)"
   ]
  },
  {
   "cell_type": "code",
   "execution_count": 0,
   "metadata": {
    "application/vnd.databricks.v1+cell": {
     "cellMetadata": {
      "byteLimit": 2048000,
      "rowLimit": 10000
     },
     "inputWidgets": {},
     "nuid": "332c69d5-c7be-45cb-9d39-422319df3931",
     "showTitle": false,
     "tableResultSettingsMap": {},
     "title": ""
    }
   },
   "outputs": [],
   "source": [
    "# Aggregate payment data by recipient primary type\n",
    "payment_summary_by_type = payment_data.groupBy(\"Covered_Recipient_Primary_Type_1\").agg(\n",
    "    F.count(\"Total_Amount_of_Payment_USDollars\").alias(\"transaction_count\"),\n",
    "    F.sum(\"Total_Amount_of_Payment_USDollars\").alias(\"total_payment_sum\")\n",
    ")"
   ]
  },
  {
   "cell_type": "code",
   "execution_count": 0,
   "metadata": {
    "application/vnd.databricks.v1+cell": {
     "cellMetadata": {
      "byteLimit": 2048000,
      "rowLimit": 10000
     },
     "inputWidgets": {},
     "nuid": "31c951d3-e1f0-4819-aa85-3b299c227781",
     "showTitle": false,
     "tableResultSettingsMap": {},
     "title": ""
    }
   },
   "outputs": [
    {
     "output_type": "stream",
     "name": "stdout",
     "output_type": "stream",
     "text": [
      "+--------------------------------------+-----------------+--------------------+\n|Covered_Recipient_Primary_Type_1      |transaction_count|total_payment_sum   |\n+--------------------------------------+-----------------+--------------------+\n|Medical Doctor                        |7913524          |2.0401834645222669E9|\n|null                                  |30588            |7.933900793164766E8 |\n|Nurse Practitioner                    |3266415          |1.3546701068595254E8|\n|Doctor of Osteopathy                  |941641           |9.368468839218245E7 |\n|Doctor of Dentistry                   |350066           |8.315500001068492E7 |\n|Physician Assistant                   |1618627          |6.882057343604396E7 |\n|Doctor of Podiatric Medicine          |148617           |3.442229348336857E7 |\n|Doctor of Optometry                   |243641           |2.331802892928546E7 |\n|Certified Registered Nurse Anesthetist|47191            |2143071.420371622   |\n|Clinical Nurse Specialist             |27756            |2023960.0999247283  |\n+--------------------------------------+-----------------+--------------------+\n\n"
     ]
    }
   ],
   "source": [
    "# Display top primary recipient types by total payment sum\n",
    "payment_summary_by_type.orderBy(\"total_payment_sum\", ascending=False).limit(10).show(truncate=False)"
   ]
  },
  {
   "cell_type": "code",
   "execution_count": 0,
   "metadata": {
    "application/vnd.databricks.v1+cell": {
     "cellMetadata": {},
     "inputWidgets": {},
     "nuid": "44b7beac-ee81-4ae8-80cd-ebac44bd6182",
     "showTitle": false,
     "tableResultSettingsMap": {},
     "title": ""
    }
   },
   "outputs": [],
   "source": []
  }
 ],
 "metadata": {
  "application/vnd.databricks.v1+notebook": {
   "computePreferences": null,
   "dashboards": [],
   "environmentMetadata": {
    "base_environment": "",
    "client": "1"
   },
   "language": "python",
   "notebookMetadata": {
    "pythonIndentUnit": 4
   },
   "notebookName": "Week7-HPC_assignment",
   "widgets": {}
  }
 },
 "nbformat": 4,
 "nbformat_minor": 0
}
